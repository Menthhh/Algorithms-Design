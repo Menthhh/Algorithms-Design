{
 "cells": [
  {
   "cell_type": "markdown",
   "metadata": {},
   "source": [
    "Celebirty Problem"
   ]
  },
  {
   "cell_type": "code",
   "execution_count": 42,
   "metadata": {},
   "outputs": [],
   "source": [
    "knows = [[0,0,0,0,1,0,1,1],\n",
    "         [1,0,1,0,1,0,1,1],\n",
    "         [1,0,0,0,1,0,0,0],\n",
    "         [1,0,1,0,1,0,1,0],\n",
    "         [0,0,0,0,0,0,0,0],\n",
    "         [1,0,1,0,1,0,1,0],\n",
    "         [1,1,0,0,1,0,0,0],\n",
    "         [1,0,1,1,1,0,1,0]]\n",
    "\n",
    "# knows[i][j] == 1 means \"i knows j\"\n",
    "# The set S of all people\n",
    "Test = {0,1,2,3,4,5,6,7}"
   ]
  },
  {
   "cell_type": "code",
   "execution_count": 44,
   "metadata": {},
   "outputs": [
    {
     "name": "stdout",
     "output_type": "stream",
     "text": [
      "The celebrity is: 4\n"
     ]
    }
   ],
   "source": [
    "def celeb_dq(S):\n",
    "    if len(S) == 1:\n",
    "        return list(S)[0]\n",
    "    else:\n",
    "        S1, S2 = divide_half(S)\n",
    "        C1 = celeb_dq(S1)\n",
    "        C2 = celeb_dq(S2)\n",
    "\n",
    "        if C1 is not None and all(knows[p][C1] == 1 for p in S2) and all(knows[C1][p] == 0 for p in S2):\n",
    "            return C1\n",
    "        elif C2 is not None and all(knows[p][C2] == 1 for p in S1) and all(knows[C2][p] == 0 for p in S1):\n",
    "            return C2\n",
    "        else:\n",
    "            return None\n",
    "\n",
    "def divide_half(S):\n",
    "    S = list(S)\n",
    "    mid = len(S) // 2\n",
    "    return set(S[:mid]), set(S[mid:])\n",
    "\n",
    "\n",
    "Test = {0, 1, 2, 3, 4, 5, 6, 7}\n",
    "\n",
    "\n",
    "celebrity = celeb_dq(Test)\n",
    "print(f\"The celebrity is: {celebrity}\")"
   ]
  },
  {
   "cell_type": "code",
   "execution_count": 21,
   "metadata": {},
   "outputs": [
    {
     "name": "stdout",
     "output_type": "stream",
     "text": [
      "4\n"
     ]
    }
   ],
   "source": [
    "def celeb1(S):\n",
    "  for x in S:\n",
    "    check = True\n",
    "    for y in S:\n",
    "      if x==y:\n",
    "        continue\n",
    "      if not knows[y][x] or knows[x][y]:\n",
    "        check = False\n",
    "        break\n",
    "    if check:\n",
    "      return x\n",
    "  return None\n",
    "\n",
    "S = {0,1,2,3,4,5,6,7}\n",
    "print(celeb1(S))"
   ]
  },
  {
   "cell_type": "markdown",
   "metadata": {},
   "source": [
    "Test Celeb"
   ]
  },
  {
   "cell_type": "code",
   "execution_count": 43,
   "metadata": {},
   "outputs": [
    {
     "name": "stdout",
     "output_type": "stream",
     "text": [
      "4\n"
     ]
    }
   ],
   "source": [
    "def divine_half2(A):\n",
    "    S = list(A)\n",
    "    mid = len(list(A))//2\n",
    "    return set(S[:mid]), set(S[mid:])\n",
    "    \n",
    "\n",
    "def celeb_dq_test(S):\n",
    "    if len(S) == 1:\n",
    "        return list(S)[0]\n",
    "    \n",
    "    else:\n",
    "        S1, S2 = divine_half2(S)\n",
    "        C1 = celeb_dq_test(S1)\n",
    "        C2 = celeb_dq_test(S2)\n",
    "\n",
    "        if C1 is not None and all(knows[p][C1] == 1 for p in S2) and all(knows[C1][p] == 0 for p in S2):\n",
    "            return C1\n",
    "        elif C2 is not None and all(knows[p][C2] == 1 for p in S1) and all(knows[C2][p] == 0 for p in S1):\n",
    "            return C2\n",
    "        else:\n",
    "            return None\n",
    "\n",
    "S = {0,1,2,3,4,5,6,7}\n",
    "print(celeb_dq_test(S))     "
   ]
  },
  {
   "cell_type": "code",
   "execution_count": 29,
   "metadata": {},
   "outputs": [
    {
     "name": "stdout",
     "output_type": "stream",
     "text": [
      "['apple', 'banana', 'cherry']\n"
     ]
    }
   ],
   "source": [
    "thisset = {\"apple\", \"banana\", \"cherry\"}\n",
    "\n",
    "lst = list(thisset)\n",
    "print(lst)\n"
   ]
  },
  {
   "cell_type": "code",
   "execution_count": 52,
   "metadata": {},
   "outputs": [
    {
     "name": "stdout",
     "output_type": "stream",
     "text": [
      "Mid:  4\n",
      "3 6\n",
      "[1, 2, 3]\n",
      "[4, 5, 6]\n"
     ]
    }
   ],
   "source": [
    "lst = [1,2,3,4,5,6]0\n",
    "mid = len(lst)//2\n",
    "print(\"Mid: \", lst[mid])\n",
    "print(mid, len(lst))\n",
    "print(lst[:mid])\n",
    "print(lst[mid:])"
   ]
  },
  {
   "cell_type": "markdown",
   "metadata": {},
   "source": [
    "Merge Sort"
   ]
  },
  {
   "cell_type": "code",
   "execution_count": 29,
   "metadata": {},
   "outputs": [
    {
     "name": "stdout",
     "output_type": "stream",
     "text": [
      "[0, 1, 2, 3, 4, 5, 6]\n",
      "[0, 1, 2, 3, 4, 5]\n",
      "[0, 1, 2, 3, 4, 5, 6]\n",
      "[0, 1, 2, 3, 4, 5]\n",
      "[0, 1, 1, 2, 2, 3, 3, 4, 4, 5, 5]\n"
     ]
    }
   ],
   "source": [
    "def merge(sl,sr):\n",
    "    merge_arr = []\n",
    "    l,r = 0,0\n",
    "    NL = len(sl)\n",
    "    NR = len(sr)\n",
    "    for _ in range(NL+NR):\n",
    "        if l >= NL:\n",
    "            merge_arr.append(sr[r])\n",
    "            r = r+1;\n",
    "        elif r >= NR:\n",
    "            merge_arr.append(sl[l])\n",
    "            l = l+1;\n",
    "        elif sl[l] <= sr[r]:\n",
    "            merge_arr.append(sl[l])\n",
    "            l = l+1\n",
    "        else:\n",
    "            merge_arr.append(sr[r])\n",
    "            r = r+1\n",
    "    return merge_arr\n",
    "\n",
    "def merge_sort(P):\n",
    "  N = len(P)\n",
    "  if N<=1:\n",
    "    return P.copy()\n",
    "  else:\n",
    "    M = N//2\n",
    "    SL = merge_sort(P[:M])\n",
    "    SR = merge_sort(P[M:])\n",
    "    return merge(SL,SR)\n",
    "  \n",
    "print(merge_sort([6,5,4,3,2,1,0]))\n",
    "print(merge_sort([5,4,3,2,1,0]))\n",
    "print(merge_sort([0,1,2,3,4,5,6]))\n",
    "print(merge_sort([0,1,2,3,4,5]))\n",
    "print(merge_sort([0,5,1,4,2,3,3,2,4,1,5]))"
   ]
  },
  {
   "cell_type": "markdown",
   "metadata": {},
   "source": [
    "Quick Sort"
   ]
  },
  {
   "cell_type": "code",
   "execution_count": 39,
   "metadata": {},
   "outputs": [
    {
     "name": "stdout",
     "output_type": "stream",
     "text": [
      "Unsorted Array\n",
      "[8, 7, 2, 1, 1, 1, 1, 5, 5, 5, 0, 9, 6]\n",
      "Sorted Array in Ascending Order:\n",
      "[0, 1, 1, 1, 1, 2, 5, 5, 5, 6, 7, 8, 9]\n"
     ]
    }
   ],
   "source": [
    "# Quick sort in Python\n",
    "\n",
    "# function to find the partition position\n",
    "def partition(array, low, high):\n",
    "\n",
    "  # choose the rightmost element as pivot\n",
    "  pivot = array[high]\n",
    "\n",
    "  # pointer for greater element\n",
    "  i = low - 1\n",
    "\n",
    "  # traverse through all elements\n",
    "  # compare each element with pivot\n",
    "  for j in range(low, high):\n",
    "    if array[j] <= pivot:\n",
    "      # if aelement smaller than pivot is found\n",
    "      # swap it with the greater element pointed by i\n",
    "      i = i + 1\n",
    "\n",
    "      # swapping element at i with element at j\n",
    "      (array[i], array[j]) = (array[j], array[i])\n",
    "\n",
    "  # swap the pivot element with the greater element specified by i\n",
    "  (array[i + 1], array[high]) = (array[high], array[i + 1])\n",
    "\n",
    "  # return the position from where partition is done\n",
    "  return i + 1\n",
    "\n",
    "# function to perform quicksort\n",
    "def quickSort(array, low, high):\n",
    "  if low < high:\n",
    "\n",
    "    # find pivot element such that\n",
    "    # element smaller than pivot are on the left\n",
    "    # element greater than pivot are on the right\n",
    "    pi = partition(array, low, high)\n",
    "\n",
    "    # recursive call on the left of pivot\n",
    "    quickSort(array, low, pi - 1)\n",
    "\n",
    "    # recursive call on the right of pivot\n",
    "    quickSort(array, pi + 1, high)\n",
    "    \n",
    "\n",
    "\n",
    "data = [8, 7, 2, 1,1,1,1,5,5,5, 0, 9, 6]\n",
    "print(\"Unsorted Array\")\n",
    "print(data)\n",
    "\n",
    "size = len(data)\n",
    "\n",
    "quickSort(data, 0, size - 1)\n",
    "\n",
    "print('Sorted Array in Ascending Order:')\n",
    "print(data)"
   ]
  },
  {
   "cell_type": "markdown",
   "metadata": {},
   "source": [
    "Quick Select"
   ]
  },
  {
   "cell_type": "code",
   "execution_count": 57,
   "metadata": {},
   "outputs": [
    {
     "name": "stdout",
     "output_type": "stream",
     "text": [
      "The 5th smallest element is: 5\n"
     ]
    }
   ],
   "source": [
    "def select_pivot(A, lo, hi):\n",
    "    M = []\n",
    "    for i in range(lo, hi, 5):\n",
    "        group = sorted(A[i:i+5]) if i + 5 <= hi else sorted(A[i:hi+1])\n",
    "        median = group[len(group) // 2]\n",
    "        M.append(median)\n",
    "    pivot = quick_select(M, 0, len(M) - 1, len(M) // 2)\n",
    "    return pivot\n",
    "\n",
    "def quick_select(A, lo, hi, k):\n",
    "    if lo == hi:\n",
    "        return A[lo]\n",
    "    pivot = select_pivot(A, lo, hi)\n",
    "    mid = partition(A, lo, hi, pivot)\n",
    "    if k < mid:\n",
    "        return quick_select(A, lo, mid - 1, k)\n",
    "    elif k > mid:\n",
    "        return quick_select(A, mid + 1, hi, k)\n",
    "    else:\n",
    "        return A[k]\n",
    "\n",
    "def partition(A, lo, hi, pivot):\n",
    "    pivot_index = A.index(pivot)\n",
    "    A[hi], A[pivot_index] = A[pivot_index], A[hi]\n",
    "    i = lo\n",
    "    for j in range(lo, hi):\n",
    "        if A[j] < pivot:\n",
    "            A[j], A[i] = A[i], A[j]\n",
    "            i += 1\n",
    "    A[i], A[hi] = A[hi], A[i]\n",
    "    return i\n",
    "\n",
    "# Example usage:\n",
    "A = [9, 3, 5, 7, 1, 5, 6, 5, 8, 2]\n",
    "k = 5  # For example, find the 5th smallest element\n",
    "element = quick_select(A, 0, len(A) - 1, k)\n",
    "print(f\"The {k}th smallest element is: {element}\")\n"
   ]
  }
 ],
 "metadata": {
  "kernelspec": {
   "display_name": "Python 3",
   "language": "python",
   "name": "python3"
  },
  "language_info": {
   "codemirror_mode": {
    "name": "ipython",
    "version": 3
   },
   "file_extension": ".py",
   "mimetype": "text/x-python",
   "name": "python",
   "nbconvert_exporter": "python",
   "pygments_lexer": "ipython3",
   "version": "3.12.0"
  }
 },
 "nbformat": 4,
 "nbformat_minor": 2
}
