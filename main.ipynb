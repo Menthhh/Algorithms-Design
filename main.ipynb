{
 "cells": [
  {
   "cell_type": "markdown",
   "metadata": {},
   "source": [
    "Celebirty Problem"
   ]
  },
  {
   "cell_type": "code",
   "execution_count": 1,
   "metadata": {},
   "outputs": [],
   "source": [
    "knows = [[0,0,0,0,1,0,1,1],\n",
    "         [1,0,1,0,1,0,1,1],\n",
    "         [1,0,0,0,1,0,0,0],\n",
    "         [1,0,1,0,1,0,1,0],\n",
    "         [0,0,0,0,0,0,0,0],\n",
    "         [1,0,1,0,1,0,1,0],\n",
    "         [1,1,0,0,1,0,0,0],\n",
    "         [1,0,1,1,1,0,1,0]]\n",
    "\n",
    "# knows[i][j] == 1 means \"i knows j\"\n",
    "# The set S of all people\n",
    "Test = {0,1,2,3,4,5,6,7}"
   ]
  },
  {
   "cell_type": "code",
   "execution_count": 4,
   "metadata": {},
   "outputs": [],
   "source": [
    "def divide_half(A):\n",
    "    \"\"\"\n",
    "    Divide the set A into two subsets A1 and A2\n",
    "    \"\"\"\n",
    "    A1 = set()\n",
    "    A2 = set()\n",
    "    for i in A:\n",
    "        if i in A1:\n",
    "            A2.add(i)\n",
    "        else:\n",
    "            A1.add(i)\n",
    "    return (A1, A2)"
   ]
  },
  {
   "cell_type": "code",
   "execution_count": 12,
   "metadata": {},
   "outputs": [],
   "source": [
    "def celeb_dq(S):\n",
    "    if len(S) == 1:\n",
    "        return S.pop()\n",
    "    else:\n",
    "        mid = len(S)//2\n",
    "        S1 = S[:mid]\n",
    "        S2 = S[mid:]\n",
    "        c1 = celeb_dq(S1)\n",
    "        c2 = celeb_dq(S2)\n",
    "        if c1 is not None:\n",
    "            for i in S2:\n",
    "                if knows[i][c1] == 0:\n",
    "                    return None\n",
    "            for i in S1:\n",
    "                if knows[c1][i] == 1:\n",
    "                    return None\n",
    "            return c1\n",
    "        elif c2 is not None:\n",
    "            for i in S1:\n",
    "                if knows[i][c2] == 0:\n",
    "                    return None\n",
    "            for i in S2:\n",
    "                if knows[c2][i] == 1:\n",
    "                    return None\n",
    "            return c2\n",
    "        else:\n",
    "            return None\n",
    "        \n",
    "\n",
    "\n",
    "\n",
    "        \n"
   ]
  },
  {
   "cell_type": "code",
   "execution_count": 14,
   "metadata": {},
   "outputs": [
    {
     "ename": "TypeError",
     "evalue": "'set' object is not subscriptable",
     "output_type": "error",
     "traceback": [
      "\u001b[1;31m---------------------------------------------------------------------------\u001b[0m",
      "\u001b[1;31mTypeError\u001b[0m                                 Traceback (most recent call last)",
      "Cell \u001b[1;32mIn[14], line 2\u001b[0m\n\u001b[0;32m      1\u001b[0m S \u001b[38;5;241m=\u001b[39m {\u001b[38;5;241m0\u001b[39m,\u001b[38;5;241m1\u001b[39m,\u001b[38;5;241m2\u001b[39m,\u001b[38;5;241m3\u001b[39m,\u001b[38;5;241m4\u001b[39m,\u001b[38;5;241m5\u001b[39m,\u001b[38;5;241m6\u001b[39m,\u001b[38;5;241m7\u001b[39m}\n\u001b[1;32m----> 2\u001b[0m \u001b[38;5;28mprint\u001b[39m(\u001b[43mceleb_dq\u001b[49m\u001b[43m(\u001b[49m\u001b[43mS\u001b[49m\u001b[43m)\u001b[49m)\n",
      "Cell \u001b[1;32mIn[12], line 6\u001b[0m, in \u001b[0;36mceleb_dq\u001b[1;34m(S)\u001b[0m\n\u001b[0;32m      4\u001b[0m \u001b[38;5;28;01melse\u001b[39;00m:\n\u001b[0;32m      5\u001b[0m     mid \u001b[38;5;241m=\u001b[39m \u001b[38;5;28mlen\u001b[39m(S)\u001b[38;5;241m/\u001b[39m\u001b[38;5;241m/\u001b[39m\u001b[38;5;241m2\u001b[39m\n\u001b[1;32m----> 6\u001b[0m     S1 \u001b[38;5;241m=\u001b[39m \u001b[43mS\u001b[49m\u001b[43m[\u001b[49m\u001b[43m:\u001b[49m\u001b[43mmid\u001b[49m\u001b[43m]\u001b[49m\n\u001b[0;32m      7\u001b[0m     S2 \u001b[38;5;241m=\u001b[39m S[mid:]\n\u001b[0;32m      8\u001b[0m     c1 \u001b[38;5;241m=\u001b[39m celeb_dq(S1)\n",
      "\u001b[1;31mTypeError\u001b[0m: 'set' object is not subscriptable"
     ]
    }
   ],
   "source": [
    "S = {0,1,2,3,4,5,6,7}\n",
    "print(celeb_dq(S))"
   ]
  }
 ],
 "metadata": {
  "kernelspec": {
   "display_name": "Python 3",
   "language": "python",
   "name": "python3"
  },
  "language_info": {
   "codemirror_mode": {
    "name": "ipython",
    "version": 3
   },
   "file_extension": ".py",
   "mimetype": "text/x-python",
   "name": "python",
   "nbconvert_exporter": "python",
   "pygments_lexer": "ipython3",
   "version": "3.12.0"
  }
 },
 "nbformat": 4,
 "nbformat_minor": 2
}
